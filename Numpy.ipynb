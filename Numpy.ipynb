{
 "cells": [
  {
   "cell_type": "markdown",
   "metadata": {},
   "source": [
    "## Para listas\n",
    "– np.array"
   ]
  },
  {
   "cell_type": "code",
   "execution_count": 1,
   "metadata": {},
   "outputs": [],
   "source": [
    "import numpy as np\n"
   ]
  },
  {
   "cell_type": "code",
   "execution_count": 2,
   "metadata": {},
   "outputs": [
    {
     "name": "stdout",
     "output_type": "stream",
     "text": [
      "[ 4  8 11 14 18]\n",
      "<class 'numpy.ndarray'>\n"
     ]
    },
    {
     "data": {
      "text/plain": [
       "(5,)"
      ]
     },
     "execution_count": 2,
     "metadata": {},
     "output_type": "execute_result"
    }
   ],
   "source": [
    "# as vectors from lists\n",
    "a = np.array([1,3,5,7,9])\n",
    "b = np.array([3,5,6,7,9])\n",
    "c = a + b\n",
    "\n",
    "print(c)\n",
    "\n",
    "print(type(c))\n",
    "\n",
    "c.shape"
   ]
  },
  {
   "cell_type": "code",
   "execution_count": 3,
   "metadata": {},
   "outputs": [
    {
     "name": "stdout",
     "output_type": "stream",
     "text": [
      "[[1 2 3]\n",
      " [3 6 9]\n",
      " [2 4 6]]\n",
      "int32\n"
     ]
    },
    {
     "ename": "ValueError",
     "evalue": "invalid literal for int() with base 10: 'hello'",
     "output_type": "error",
     "traceback": [
      "\u001b[1;31m---------------------------------------------------------------------------\u001b[0m",
      "\u001b[1;31mValueError\u001b[0m                                Traceback (most recent call last)",
      "Cell \u001b[1;32mIn[3], line 18\u001b[0m\n\u001b[0;32m     14\u001b[0m M\u001b[38;5;241m.\u001b[39mdtype\n\u001b[0;32m     17\u001b[0m \u001b[38;5;66;03m#only one type\u001b[39;00m\n\u001b[1;32m---> 18\u001b[0m M[\u001b[38;5;241m0\u001b[39m,\u001b[38;5;241m0\u001b[39m] \u001b[38;5;241m=\u001b[39m \u001b[38;5;124m\"\u001b[39m\u001b[38;5;124mhello\u001b[39m\u001b[38;5;124m\"\u001b[39m\n\u001b[0;32m     20\u001b[0m M \u001b[38;5;241m=\u001b[39m np\u001b[38;5;241m.\u001b[39marray([[\u001b[38;5;241m1\u001b[39m, \u001b[38;5;241m2\u001b[39m], [\u001b[38;5;241m3\u001b[39m, \u001b[38;5;241m4\u001b[39m]], dtype\u001b[38;5;241m=\u001b[39m\u001b[38;5;28mcomplex\u001b[39m)\n\u001b[0;32m     21\u001b[0m M\n",
      "\u001b[1;31mValueError\u001b[0m: invalid literal for int() with base 10: 'hello'"
     ]
    }
   ],
   "source": [
    "l = [[1, 2, 3], [3, 6, 9], [2, 4, 6]] # create a list\n",
    "a = np.array(l) # convert a list to an array\n",
    "print(a)\n",
    "\n",
    "a.shape\n",
    "\n",
    "print(a.dtype) # get type of an array\n",
    "\n",
    "# or directly as matrix\n",
    "\n",
    "M = np.array([[1, 2], [3, 4]])\n",
    "M.shape\n",
    "\n",
    "M.dtype\n",
    "\n",
    "\n",
    "#only one type\n",
    "M[0,0] = \"hello\"\n",
    "\n",
    "M = np.array([[1, 2], [3, 4]], dtype=complex)\n",
    "M\n"
   ]
  },
  {
   "cell_type": "code",
   "execution_count": 6,
   "metadata": {},
   "outputs": [
    {
     "name": "stdout",
     "output_type": "stream",
     "text": [
      "[[1 2 3]\n",
      " [3 6 9]\n",
      " [2 4 6]]\n",
      "[1 2 3]\n",
      "9\n",
      "[6 9]\n",
      "[2 6 4]\n",
      "[[1 2 3]\n",
      " [3 6 9]\n",
      " [2 4 6]]\n",
      "[[1 2 3]\n",
      " [3 6 9]\n",
      " [2 4 6]]\n"
     ]
    }
   ],
   "source": [
    "print(a)\n",
    "\n",
    "print(a[0]) # this is just like a list of lists\n",
    "\n",
    "print(a[1, 2]) # arrays can be given comma separated indices\n",
    "\n",
    "print(a[1, 1:3]) # and slices\n",
    "\n",
    "print(a[:,1])\n",
    "\n",
    "print(a)\n",
    "\n",
    "print(a)\n"
   ]
  },
  {
   "cell_type": "code",
   "execution_count": 8,
   "metadata": {},
   "outputs": [
    {
     "data": {
      "text/plain": [
       "array([0, 1, 2, 3, 4, 5, 6, 7, 8, 9])"
      ]
     },
     "execution_count": 8,
     "metadata": {},
     "output_type": "execute_result"
    }
   ],
   "source": [
    "#Generation functions\n",
    "\n",
    "x = np.arange(0, 10, 1) # arguments: start, stop, step\n",
    "x\n"
   ]
  },
  {
   "cell_type": "code",
   "execution_count": 9,
   "metadata": {},
   "outputs": [
    {
     "data": {
      "text/plain": [
       "array([ 0.        ,  0.41666667,  0.83333333,  1.25      ,  1.66666667,\n",
       "        2.08333333,  2.5       ,  2.91666667,  3.33333333,  3.75      ,\n",
       "        4.16666667,  4.58333333,  5.        ,  5.41666667,  5.83333333,\n",
       "        6.25      ,  6.66666667,  7.08333333,  7.5       ,  7.91666667,\n",
       "        8.33333333,  8.75      ,  9.16666667,  9.58333333, 10.        ])"
      ]
     },
     "execution_count": 9,
     "metadata": {},
     "output_type": "execute_result"
    }
   ],
   "source": [
    "np.linspace(0, 10, 25)\n"
   ]
  },
  {
   "cell_type": "code",
   "execution_count": 11,
   "metadata": {},
   "outputs": [
    {
     "data": {
      "text/plain": [
       "array([1.00000000e+00, 3.03773178e+00, 9.22781435e+00, 2.80316249e+01,\n",
       "       8.51525577e+01, 2.58670631e+02, 7.85771994e+02, 2.38696456e+03,\n",
       "       7.25095809e+03, 2.20264658e+04])"
      ]
     },
     "execution_count": 11,
     "metadata": {},
     "output_type": "execute_result"
    }
   ],
   "source": [
    "np.logspace(0, 10, 10, base=np.e)\n"
   ]
  },
  {
   "cell_type": "code",
   "execution_count": 15,
   "metadata": {},
   "outputs": [
    {
     "name": "stdout",
     "output_type": "stream",
     "text": [
      "[0. 0. 0. 0. 0.]\n"
     ]
    },
    {
     "data": {
      "text/plain": [
       "array([[1., 1., 1.],\n",
       "       [1., 1., 1.],\n",
       "       [1., 1., 1.]])"
      ]
     },
     "execution_count": 15,
     "metadata": {},
     "output_type": "execute_result"
    }
   ],
   "source": [
    "# a diagonal matrix\n",
    "np.diag([1,2,3])\n",
    "\n",
    "b = np.zeros(5)\n",
    "print(b)\n",
    "\n",
    "b.dtype\n",
    "\n",
    "n = 1000\n",
    "my_int_array = np.zeros(n,dtype=int)\n",
    "my_int_array.dtype\n",
    "\n",
    "c = np.ones((3,3))\n",
    "c\n"
   ]
  },
  {
   "cell_type": "code",
   "execution_count": 6,
   "metadata": {},
   "outputs": [
    {
     "name": "stdout",
     "output_type": "stream",
     "text": [
      "[0 1 2 3 4]\n",
      "[0 9 2 3 4]\n",
      "[0.  3.6 0.8 1.2 1.6]\n",
      "[0. 1. 2. 3. 4.]\n"
     ]
    },
    {
     "data": {
      "text/plain": [
       "array([3. , 3.5, 4. , 4.5, 5. , 5.5, 6. , 6.5])"
      ]
     },
     "execution_count": 6,
     "metadata": {},
     "output_type": "execute_result"
    }
   ],
   "source": [
    "d = np.arange(5) # just like range()\n",
    "print(d)\n",
    "\n",
    "d[1] = 9.7\n",
    "print(d) # arrays keep their type even if elements changed\n",
    "\n",
    "print(d*0.4) # operations create a new array, with new type\n",
    "\n",
    "d = np.arange(5, dtype=float)\n",
    "print(d)\n",
    "\n",
    "np.arange(3, 7, 0.5) # arbitrary start, stop and step"
   ]
  },
  {
   "cell_type": "code",
   "execution_count": 8,
   "metadata": {},
   "outputs": [
    {
     "name": "stdout",
     "output_type": "stream",
     "text": [
      "[[0 0 0 0 0]\n",
      " [1 1 1 1 1]\n",
      " [2 2 2 2 2]\n",
      " [3 3 3 3 3]\n",
      " [4 4 4 4 4]]\n"
     ]
    },
    {
     "data": {
      "text/plain": [
       "array([[0.90201177, 0.24213055, 0.41450165, 0.33250242, 0.18137155],\n",
       "       [0.89357526, 0.38974859, 0.42531704, 0.02390699, 0.35134865],\n",
       "       [0.35935282, 0.09342434, 0.28149165, 0.63597227, 0.69464689],\n",
       "       [0.16731757, 0.82616206, 0.56769372, 0.98573644, 0.20788476],\n",
       "       [0.6786309 , 0.67332969, 0.09166435, 0.94957498, 0.01457012]])"
      ]
     },
     "execution_count": 8,
     "metadata": {},
     "output_type": "execute_result"
    }
   ],
   "source": [
    "x, y = np.mgrid[0:5, 0:5] # similar to meshgrid in MATLAB\n",
    "print(x)\n",
    "\n",
    "# random data\n",
    "np.random.rand(5,5)\n"
   ]
  },
  {
   "cell_type": "code",
   "execution_count": 9,
   "metadata": {},
   "outputs": [
    {
     "ename": "SyntaxError",
     "evalue": "invalid character '‘' (U+2018) (3002480483.py, line 4)",
     "output_type": "error",
     "traceback": [
      "\u001b[1;36m  Cell \u001b[1;32mIn[9], line 4\u001b[1;36m\u001b[0m\n\u001b[1;33m    data = np.genfromtxt('DeBilt.txt‘, delimiter=',‘, skip_header=1)\u001b[0m\n\u001b[1;37m                                                   ^\u001b[0m\n\u001b[1;31mSyntaxError\u001b[0m\u001b[1;31m:\u001b[0m invalid character '‘' (U+2018)\n"
     ]
    }
   ],
   "source": [
    "os.system('head DeBilt.txt')\n",
    "\n",
    "0\n",
    "data = np.genfromtxt('DeBilt.txt‘, delimiter=',‘, skip_header=1)\n",
    "data.shape\n"
   ]
  },
  {
   "cell_type": "code",
   "execution_count": null,
   "metadata": {},
   "outputs": [],
   "source": [
    "M = np.random.rand(3,3)\n",
    "M\n",
    "\n",
    "\n",
    "np.save('saved-matrix.npy', M)\n",
    "np.load('saved-matrix.npy’)\n",
    "\n"
   ]
  },
  {
   "cell_type": "code",
   "execution_count": 12,
   "metadata": {},
   "outputs": [
    {
     "name": "stdout",
     "output_type": "stream",
     "text": [
      "[10.   21.7  25.6  27.55]\n",
      "[105 125 150 175 195]\n"
     ]
    }
   ],
   "source": [
    "a = np.arange(4.0)\n",
    "b = a * 23.4\n",
    "c = b/(a+1)\n",
    "c += 10\n",
    "print(c)\n",
    "\n",
    "arr = np.arange(100, 200)\n",
    "select = [5, 25, 50, 75, -5]\n",
    "print(arr[select]) # can use integer lists as indices\n",
    "\n",
    "\n",
    "arr = np.arange(10, 20).reshape((2,5))\n"
   ]
  },
  {
   "cell_type": "code",
   "execution_count": 14,
   "metadata": {},
   "outputs": [
    {
     "name": "stdout",
     "output_type": "stream",
     "text": [
      "145\n",
      "14.5\n",
      "2.8722813232690143\n",
      "19\n",
      "10\n"
     ]
    }
   ],
   "source": [
    "print(arr.sum())\n",
    "\n",
    "print(arr.mean())\n",
    "\n",
    "print(arr.std())\n",
    "\n",
    "print(arr.max())\n",
    "\n",
    "print(arr.min())\n"
   ]
  },
  {
   "cell_type": "code",
   "execution_count": 15,
   "metadata": {},
   "outputs": [
    {
     "name": "stdout",
     "output_type": "stream",
     "text": [
      "[1.2 1.8 2.3 4.5 5.5 6.7]\n",
      "[4.5 2.3 6.7 1.2 1.8 5.5]\n"
     ]
    }
   ],
   "source": [
    "arr = np.array([4.5, 2.3, 6.7, 1.2, 1.8, 5.5])\n",
    "arr.sort() # acts on array itself\n",
    "print(arr)\n",
    "\n",
    "x = np.array([4.5, 2.3, 6.7, 1.2, 1.8, 5.5])\n",
    "np.sort(x)\n",
    "\n",
    "print(x)\n"
   ]
  },
  {
   "cell_type": "code",
   "execution_count": 21,
   "metadata": {},
   "outputs": [
    {
     "name": "stdout",
     "output_type": "stream",
     "text": [
      "[[1. 2.]\n",
      " [4. 3.]]\n",
      "[[-0.6  0.4]\n",
      " [ 0.8 -0.2]]\n"
     ]
    },
    {
     "data": {
      "text/plain": [
       "array([[-1.,  0.],\n",
       "       [ 0., -1.]])"
      ]
     },
     "execution_count": 21,
     "metadata": {},
     "output_type": "execute_result"
    }
   ],
   "source": [
    "a = np.array([[1.0, 2.0], [4.0, 3.0]])\n",
    "print(a)\n",
    "\n",
    "a.transpose()\n",
    "print(np.linalg.inv(a))\n",
    "\n",
    "\n",
    "u = np.eye(2) # unit 2x2 matrix; \"eye\" represents \"I\"\n",
    "u\n",
    "\n",
    "\n",
    "j = np.array([[0.0, -1.0], [1.0, 0.0]])\n",
    "np.dot (j, j) # matrix product\n"
   ]
  },
  {
   "cell_type": "code",
   "execution_count": 23,
   "metadata": {},
   "outputs": [
    {
     "name": "stdout",
     "output_type": "stream",
     "text": [
      "[6. 4. 9.]\n",
      "[-4.  0. -3.]\n",
      "[ 5.  4. 18.]\n",
      "[5. 1. 2.]\n",
      "[1. 0. 3.]\n",
      "[  5.   4. 216.]\n",
      "[[1. 2.]\n",
      " [3. 4.]\n",
      " [5. 6.]]\n",
      "[-1.  3.]\n",
      "[[0. 5.]\n",
      " [2. 7.]\n",
      " [4. 9.]]\n",
      "[[ 1.  4.]\n",
      " [ 9. 16.]\n",
      " [25. 36.]]\n",
      "[1. 9.]\n",
      "[[-1.  6.]\n",
      " [-3. 12.]\n",
      " [-5. 18.]]\n"
     ]
    }
   ],
   "source": [
    "a = np.array([1,2,3], float)\n",
    "b = np.array([5,2,6], float)\n",
    "\n",
    "print(a + b)\n",
    "print(a-b)\n",
    "print(a * b)\n",
    "print(b / a)\n",
    "print(a % b)\n",
    "print(b**a)\n",
    "\n",
    "a = np.array([[1, 2], [3, 4], [5, 6]], float)\n",
    "b = np.array([-1, 3], float)\n",
    "print(a)\n",
    "print(b)\n",
    "print(a + b)\n",
    "\n",
    "a = np.array([[1, 2], [3, 4], [5, 6]], float)\n",
    "b = np.array([-1, 3], float)\n",
    "print(a * a)\n",
    "\n",
    "print(b * b)\n",
    "\n",
    "print(a * b)\n"
   ]
  }
 ],
 "metadata": {
  "kernelspec": {
   "display_name": "Estadstica1",
   "language": "python",
   "name": "python3"
  },
  "language_info": {
   "codemirror_mode": {
    "name": "ipython",
    "version": 3
   },
   "file_extension": ".py",
   "mimetype": "text/x-python",
   "name": "python",
   "nbconvert_exporter": "python",
   "pygments_lexer": "ipython3",
   "version": "3.12.4"
  }
 },
 "nbformat": 4,
 "nbformat_minor": 2
}
